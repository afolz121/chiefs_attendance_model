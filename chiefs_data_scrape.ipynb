{
  "nbformat": 4,
  "nbformat_minor": 0,
  "metadata": {
    "colab": {
      "name": "chiefs_data_scrape.ipynb",
      "version": "0.3.2",
      "provenance": [],
      "collapsed_sections": []
    },
    "kernelspec": {
      "name": "python3",
      "display_name": "Python 3"
    }
  },
  "cells": [
    {
      "metadata": {
        "id": "Arn4PM3CuI-a",
        "colab_type": "code",
        "colab": {
          "base_uri": "https://localhost:8080/",
          "height": 52
        },
        "outputId": "91b23d55-10d7-4764-9ece-3eb2f688aff8"
      },
      "cell_type": "code",
      "source": [
        "#Chiefs Data Scrape using http://pro-football-reference.com\n",
        "\n",
        "\n",
        "import pandas as pd\n",
        "from bs4 import BeautifulSoup as bs\n",
        "import sys \n",
        "import os\n",
        "from urllib.request import urlopen\n",
        "import sklearn\n",
        "import numpy as np\n",
        "import re\n",
        "\n",
        "import time\n",
        "\n",
        "\n",
        "#change max_columns in pandas\n",
        "\n",
        "pd.set_option('max_columns', 50)\n",
        "\n",
        "#start scipt clock\n",
        "time1 = time.time()\n",
        "\n",
        "print(sys.version)"
      ],
      "execution_count": 156,
      "outputs": [
        {
          "output_type": "stream",
          "text": [
            "3.6.7 (default, Oct 22 2018, 11:32:17) \n",
            "[GCC 8.2.0]\n"
          ],
          "name": "stdout"
        }
      ]
    },
    {
      "metadata": {
        "id": "HTdA7sQWYVkX",
        "colab_type": "code",
        "colab": {
          "base_uri": "https://localhost:8080/",
          "height": 34
        },
        "outputId": "d778e3c0-9d29-480b-c00f-a750d08e86f7"
      },
      "cell_type": "code",
      "source": [
        "#determine how many years of data you would like to scrape\n",
        "\n",
        "years = list(range(2005,2019))\n",
        "\n",
        "years[-1]"
      ],
      "execution_count": 157,
      "outputs": [
        {
          "output_type": "execute_result",
          "data": {
            "text/plain": [
              "2018"
            ]
          },
          "metadata": {
            "tags": []
          },
          "execution_count": 157
        }
      ]
    },
    {
      "metadata": {
        "id": "duEl_acRuO8k",
        "colab_type": "code",
        "outputId": "1ec27101-5efd-4825-9f76-616ffdd15749",
        "colab": {
          "base_uri": "https://localhost:8080/",
          "height": 52
        }
      },
      "cell_type": "code",
      "source": [
        "print(sys.version)"
      ],
      "execution_count": 158,
      "outputs": [
        {
          "output_type": "stream",
          "text": [
            "3.6.7 (default, Oct 22 2018, 11:32:17) \n",
            "[GCC 8.2.0]\n"
          ],
          "name": "stdout"
        }
      ]
    },
    {
      "metadata": {
        "id": "cEMBli_mv8Ts",
        "colab_type": "code",
        "colab": {}
      },
      "cell_type": "code",
      "source": [
        "#single year pull\n",
        "url = 'https://www.pro-football-reference.com/teams/kan/2017.htm'"
      ],
      "execution_count": 0,
      "outputs": []
    },
    {
      "metadata": {
        "id": "Mx7fISL5wRLl",
        "colab_type": "code",
        "colab": {}
      },
      "cell_type": "code",
      "source": [
        "page = urlopen(url)\n",
        "soup = bs(page)\n",
        "table = soup.find_all(\"table\")\n",
        "table = table[1]"
      ],
      "execution_count": 0,
      "outputs": []
    },
    {
      "metadata": {
        "id": "9WI3oWiqxo_C",
        "colab_type": "code",
        "colab": {}
      },
      "cell_type": "code",
      "source": [
        "#pull for all years\n",
        "for year in years:\n",
        "    if year == years[0]:\n",
        "        predf = dict()\n",
        "        week = 0\n",
        "        urls = 'https://www.pro-football-reference.com/teams/kan/'\n",
        "        end = '.htm'\n",
        "        url = urls+str(year)+end\n",
        "        page = urlopen(url).read()\n",
        "        soup = bs(page)\n",
        "        table = soup.find_all(\"table\")\n",
        "        table = table[1]\n",
        "        rows = table.find_all('tr')\n",
        "        for row in rows:\n",
        "            a = row.find_all('td')\n",
        "            for rowrow in a:\n",
        "                b = rowrow.text.strip().encode()\n",
        "                c = b.decode('utf-8')\n",
        "                ff = rowrow['data-stat']\n",
        "                if ff in predf:\n",
        "                    predf[ff].append(c)\n",
        "                else:\n",
        "                    predf[ff] = [c]\n",
        "        df1 = pd.DataFrame.from_dict(predf)\n",
        "        aa = []\n",
        "        for index,row in df1.iterrows():\n",
        "            aa.append(index + 1)\n",
        "        df1['week'] = aa\n",
        "        df1['season'] = year\n",
        "    else:\n",
        "        predf = dict()\n",
        "        urls = 'https://www.pro-football-reference.com/teams/kan/'\n",
        "        end = '.htm'\n",
        "        url = urls+str(year)+end\n",
        "        page = urlopen(url).read()\n",
        "        soup = bs(page)\n",
        "        table = soup.find_all(\"table\")\n",
        "        table = table[1]\n",
        "        rows = table.find_all('tr')\n",
        "        for row in rows:\n",
        "            a = row.find_all('td')\n",
        "            for rowrow in a:\n",
        "                b = rowrow.text.strip().encode()\n",
        "                c = b.decode('utf-8')\n",
        "                ff = rowrow['data-stat']\n",
        "                if ff in predf:\n",
        "                    predf[ff].append(c)\n",
        "                else:\n",
        "                    predf[ff] = [c]\n",
        "        df2 = pd.DataFrame.from_dict(predf)\n",
        "        aa = []\n",
        "        for index,row in df2.iterrows():\n",
        "            aa.append(index + 1)\n",
        "        df2['week'] = aa\n",
        "        df2['season'] = year\n",
        "        df1 = pd.concat([df1,df2],axis = 0,ignore_index=True)\n",
        "            "
      ],
      "execution_count": 0,
      "outputs": []
    },
    {
      "metadata": {
        "id": "jVTH310fxuDu",
        "colab_type": "code",
        "colab": {}
      },
      "cell_type": "code",
      "source": [
        "#rearrange columns so season and week are first\n",
        "df1 = pd.concat([df1[['season','week']],df1.iloc[:,:-2]],axis = 1)"
      ],
      "execution_count": 0,
      "outputs": []
    },
    {
      "metadata": {
        "id": "9HB5LWShR_o8",
        "colab_type": "code",
        "colab": {}
      },
      "cell_type": "code",
      "source": [
        "df1.iloc[176:178,:]"
      ],
      "execution_count": 0,
      "outputs": []
    },
    {
      "metadata": {
        "id": "sGTPJ_AnSC52",
        "colab_type": "code",
        "colab": {}
      },
      "cell_type": "code",
      "source": [
        "#add feature for playoff games\n",
        "df1['playoff_game'] = 'no'\n",
        "aa = []\n",
        "for index, row in df1.iterrows():\n",
        "    if row['game_location'] == '@':\n",
        "        aa.append('away')\n",
        "    else:\n",
        "        aa.append('home')\n",
        "df1['game_location'] = aa"
      ],
      "execution_count": 0,
      "outputs": []
    },
    {
      "metadata": {
        "id": "OmIK_pwISa4v",
        "colab_type": "code",
        "colab": {}
      },
      "cell_type": "code",
      "source": [
        "for index, row in df1.iterrows():\n",
        "    if row['week'] > 17:\n",
        "        df1.loc[index,'week'] = df1.loc[index,'week'] - 1\n",
        "        df1.loc[index,'playoff_game'] = 'yes'\n",
        "        "
      ],
      "execution_count": 0,
      "outputs": []
    },
    {
      "metadata": {
        "id": "xijU83BcSfMw",
        "colab_type": "code",
        "colab": {}
      },
      "cell_type": "code",
      "source": [
        "df1 = df1[df1['game_date'] != 'Playoffs']\n",
        "del[df1['boxscore_word']]"
      ],
      "execution_count": 0,
      "outputs": []
    },
    {
      "metadata": {
        "id": "NlRryMlfSkHm",
        "colab_type": "code",
        "colab": {}
      },
      "cell_type": "code",
      "source": [
        "print('total script time', round((time.time() - time1) / 60,2),'minutes')"
      ],
      "execution_count": 0,
      "outputs": []
    },
    {
      "metadata": {
        "id": "mCRUVWX5XqBM",
        "colab_type": "code",
        "colab": {}
      },
      "cell_type": "code",
      "source": [
        "#get attendance html\n",
        "\n",
        "url = 'https://www.pro-football-reference.com/years/2006/attendance.htm'\n",
        "page = urlopen(url).read()\n",
        "\n",
        "soup = bs(page)"
      ],
      "execution_count": 0,
      "outputs": []
    },
    {
      "metadata": {
        "id": "cwwTOGjrOnxR",
        "colab_type": "code",
        "colab": {}
      },
      "cell_type": "code",
      "source": [
        ""
      ],
      "execution_count": 0,
      "outputs": []
    },
    {
      "metadata": {
        "colab_type": "code",
        "id": "4UDbhEHROeFh",
        "colab": {}
      },
      "cell_type": "code",
      "source": [
        "table = soup.find(\"table\", {'id' : 'attendance'})"
      ],
      "execution_count": 0,
      "outputs": []
    },
    {
      "metadata": {
        "id": "4-VgxHR7Z8vX",
        "colab_type": "code",
        "colab": {}
      },
      "cell_type": "code",
      "source": [
        "predf = dict()\n",
        "rows = table.find_all('tr')\n",
        "\n",
        "\n",
        "for row in rows:\n",
        "  b = row.find_all('th')[0].text.strip()\n",
        "  if b == 'Tm':\n",
        "    pass\n",
        "  elif 'team' not in predf:\n",
        "    print(b)\n",
        "    predf['team'] = [b]\n",
        "  else:\n",
        "    predf['team'].append(b)\n",
        "\n",
        "for row in rows:\n",
        "  a = row.find_all('td')\n",
        "  for rowrow in a:\n",
        "      b = rowrow.text.strip().encode()\n",
        "      c = b.decode('utf-8')\n",
        "      ff = rowrow['data-stat']\n",
        "      if ff in predf:\n",
        "          predf[ff].append(c)\n",
        "      else:\n",
        "          predf[ff] = [c]"
      ],
      "execution_count": 0,
      "outputs": []
    },
    {
      "metadata": {
        "id": "gjtEFPYKaBzx",
        "colab_type": "code",
        "colab": {}
      },
      "cell_type": "code",
      "source": [
        "a = pd.DataFrame(predf)\n",
        "\n",
        "aa = ['team']\n",
        "\n",
        "for n in list(range(1,18)):\n",
        "  aa.append('week'+str(n))\n",
        "  \n",
        "b = a[a['team'] == 'Kansas City Chiefs'][aa].transpose().reset_index()\n",
        " \n",
        "b.columns = ['week','attendance']\n",
        "\n",
        "\n",
        "b = b.iloc[1:,:].reset_index()\n",
        "\n",
        "del[b['index']]\n",
        "\n",
        "b.head()"
      ],
      "execution_count": 0,
      "outputs": []
    },
    {
      "metadata": {
        "id": "bYmwm9Z-dZ_1",
        "colab_type": "code",
        "colab": {}
      },
      "cell_type": "code",
      "source": [
        "#make dataset of all years for attendance\n",
        "\n",
        "for year in years:\n",
        "  if year == years[0]:\n",
        "    url = 'https://www.pro-football-reference.com/years/' + str(year) + '/attendance.htm'\n",
        "    page = urlopen(url).read()\n",
        "    soup = bs(page)\n",
        "    table = soup.find(\"table\", {'id' : 'attendance'})\n",
        "    predf = dict()\n",
        "    rows = table.find_all('tr')\n",
        "\n",
        "    for row in rows:\n",
        "      b = row.find_all('th')[0].text.strip()\n",
        "      if b == 'Tm':\n",
        "        pass\n",
        "      elif 'team' not in predf:\n",
        "        #print(b)\n",
        "        predf['team'] = [b]\n",
        "      else:\n",
        "        predf['team'].append(b)\n",
        "\n",
        "    for row in rows:\n",
        "      a = row.find_all('td')\n",
        "      for rowrow in a:\n",
        "          b = rowrow.text.strip().encode()\n",
        "          c = b.decode('utf-8')\n",
        "          ff = rowrow['data-stat']\n",
        "          if ff in predf:\n",
        "              predf[ff].append(c)\n",
        "          else:\n",
        "              predf[ff] = [c]\n",
        "    a = pd.DataFrame(predf)\n",
        "\n",
        "    aa = ['team']\n",
        "\n",
        "    for n in list(range(1,18)):\n",
        "      aa.append('week'+str(n))\n",
        "\n",
        "    attend = a[a['team'] == 'Kansas City Chiefs'][aa].transpose().reset_index()\n",
        "\n",
        "    attend.columns = ['week','attendance']\n",
        "\n",
        "\n",
        "    attend = attend.iloc[1:,:].reset_index()\n",
        "\n",
        "    del[attend['index']]\n",
        "    attend['year'] = year\n",
        "  else:\n",
        "    url = 'https://www.pro-football-reference.com/years/' + str(year) + '/attendance.htm'\n",
        "    page = urlopen(url).read()\n",
        "    soup = bs(page)\n",
        "    table = soup.find(\"table\", {'id' : 'attendance'})\n",
        "    predf = dict()\n",
        "    rows = table.find_all('tr')\n",
        "\n",
        "    for row in rows:\n",
        "      b = row.find_all('th')[0].text.strip()\n",
        "      if b == 'Tm':\n",
        "        pass\n",
        "      elif 'team' not in predf:\n",
        "        #print(b)\n",
        "        predf['team'] = [b]\n",
        "      else:\n",
        "        predf['team'].append(b)\n",
        "\n",
        "    for row in rows:\n",
        "      a = row.find_all('td')\n",
        "      for rowrow in a:\n",
        "          b = rowrow.text.strip().encode()\n",
        "          c = b.decode('utf-8')\n",
        "          ff = rowrow['data-stat']\n",
        "          if ff in predf:\n",
        "              predf[ff].append(c)\n",
        "          else:\n",
        "              predf[ff] = [c]\n",
        "    a = pd.DataFrame(predf)\n",
        "\n",
        "    aa = ['team']\n",
        "\n",
        "    for n in list(range(1,18)):\n",
        "      aa.append('week'+str(n))\n",
        "\n",
        "    attend1 = a[a['team'] == 'Kansas City Chiefs'][aa].transpose().reset_index()\n",
        "\n",
        "    attend1.columns = ['week','attendance']\n",
        "\n",
        "\n",
        "    attend1 = attend1.iloc[1:,:].reset_index()\n",
        "\n",
        "    del[attend1['index']]\n",
        "    attend1['year'] = year\n",
        "    attend = pd.concat([attend,attend1], axis = 0)\n",
        "    \n",
        "\n",
        "\n"
      ],
      "execution_count": 0,
      "outputs": []
    },
    {
      "metadata": {
        "id": "iIAJNQ56RZ8s",
        "colab_type": "code",
        "colab": {}
      },
      "cell_type": "code",
      "source": [
        "attend.head()"
      ],
      "execution_count": 0,
      "outputs": []
    },
    {
      "metadata": {
        "id": "budE64eJRzHL",
        "colab_type": "code",
        "colab": {}
      },
      "cell_type": "code",
      "source": [
        "#make unique key out of year and week\n",
        "\n",
        "aa = []\n",
        "\n",
        "for index,row in attend.iterrows():\n",
        "  year = str(row['year'])\n",
        "  week = re.sub('[a-z]', '', row['week'])\n",
        "  year_week = year + week\n",
        "  aa.append(year_week)\n",
        "  \n",
        "attend['year_week'] = aa"
      ],
      "execution_count": 0,
      "outputs": []
    },
    {
      "metadata": {
        "id": "aKIGDs6TUFa-",
        "colab_type": "code",
        "colab": {}
      },
      "cell_type": "code",
      "source": [
        "attend.head()"
      ],
      "execution_count": 0,
      "outputs": []
    },
    {
      "metadata": {
        "id": "sKvyJhbJUGaZ",
        "colab_type": "code",
        "colab": {}
      },
      "cell_type": "code",
      "source": [
        "df1.head()"
      ],
      "execution_count": 0,
      "outputs": []
    },
    {
      "metadata": {
        "id": "j4PtFzLcWG_k",
        "colab_type": "code",
        "colab": {}
      },
      "cell_type": "code",
      "source": [
        "#create year_week for main dataframe\n",
        "\n",
        "aa = [] \n",
        "\n",
        "for index,row in df1.iterrows():\n",
        "  year = str(row['season'])\n",
        "  week = str(row['week'])\n",
        "  aa.append(year + week)\n",
        "  \n",
        "df1['year_week'] = aa"
      ],
      "execution_count": 0,
      "outputs": []
    },
    {
      "metadata": {
        "id": "1ijLLVfjWfxZ",
        "colab_type": "code",
        "colab": {}
      },
      "cell_type": "code",
      "source": [
        "df = df1.merge(attend[['attendance','year_week']], on = 'year_week')\n",
        "\n",
        "#delete matching key\n",
        "del[df['year_week']]"
      ],
      "execution_count": 0,
      "outputs": []
    },
    {
      "metadata": {
        "id": "7gvVJ1_VXBw4",
        "colab_type": "code",
        "colab": {}
      },
      "cell_type": "code",
      "source": [
        "df.tail()"
      ],
      "execution_count": 0,
      "outputs": []
    },
    {
      "metadata": {
        "colab_type": "code",
        "id": "nOEaPsY4ekuS",
        "colab": {}
      },
      "cell_type": "code",
      "source": [
        ""
      ],
      "execution_count": 0,
      "outputs": []
    }
  ]
}