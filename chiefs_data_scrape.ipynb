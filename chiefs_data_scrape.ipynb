{
 "cells": [
  {
   "cell_type": "code",
   "execution_count": 33,
   "metadata": {
    "tags": []
   },
   "outputs": [
    {
     "output_type": "stream",
     "name": "stdout",
     "text": "3.7.6 (default, Jan  8 2020, 13:42:34) \n[Clang 4.0.1 (tags/RELEASE_401/final)]\n"
    }
   ],
   "source": [
    "from urllib.request import urlopen\n",
    "from bs4 import BeautifulSoup as bs\n",
    "import pandas as pd\n",
    "import time\n",
    "import os\n",
    "import sys\n",
    "print(sys.version)\n",
    "\n",
    "pd.set_option('max_columns', 100)\n",
    "\n",
    "#website for help \n",
    "#https://medium.com/@smehta/scrape-and-create-your-own-beautiful-dataset-from-sports-reference-com-using-beautifulsoup-python-c26d6920684e"
   ]
  },
  {
   "cell_type": "code",
   "execution_count": 2,
   "metadata": {},
   "outputs": [],
   "source": [
    "url = 'https://www.pro-football-reference.com/teams/kan/2017.htm'\n",
    "page = urlopen(url).read()"
   ]
  },
  {
   "cell_type": "code",
   "execution_count": 3,
   "metadata": {},
   "outputs": [],
   "source": [
    "soup = bs(page)"
   ]
  },
  {
   "cell_type": "code",
   "execution_count": 4,
   "metadata": {},
   "outputs": [],
   "source": [
    "table = soup.find_all(\"table\")"
   ]
  },
  {
   "cell_type": "code",
   "execution_count": 5,
   "metadata": {},
   "outputs": [],
   "source": [
    "table = table[1]"
   ]
  },
  {
   "cell_type": "code",
   "execution_count": 24,
   "metadata": {},
   "outputs": [],
   "source": [
    "years = list(range(2005,2020))"
   ]
  },
  {
   "cell_type": "code",
   "execution_count": 25,
   "metadata": {},
   "outputs": [],
   "source": [
    "url = 'https://www.pro-football-reference.com/teams/kan/2005.htm'"
   ]
  },
  {
   "cell_type": "code",
   "execution_count": 26,
   "metadata": {},
   "outputs": [],
   "source": [
    "#predf['season'] = year\n",
    "#rows = table.find_all('tr')\n",
    "\n",
    "\n",
    "for year in years:\n",
    "    if year == years[0]:\n",
    "        predf = dict()\n",
    "        week = 0\n",
    "        urls = 'https://www.pro-football-reference.com/teams/kan/'\n",
    "        end = '.htm'\n",
    "        url = urls+str(year)+end\n",
    "        page = urlopen(url).read()\n",
    "        soup = bs(page)\n",
    "        table = soup.find_all(\"table\")\n",
    "        table = table[1]\n",
    "        rows = table.find_all('tr')\n",
    "        for row in rows:\n",
    "            a = row.find_all('td')\n",
    "            for rowrow in a:\n",
    "                b = rowrow.text.strip().encode()\n",
    "                c = b.decode('utf-8')\n",
    "                ff = rowrow['data-stat']\n",
    "                if ff in predf:\n",
    "                    predf[ff].append(c)\n",
    "                else:\n",
    "                    predf[ff] = [c]\n",
    "        df1 = pd.DataFrame.from_dict(predf)\n",
    "        aa = []\n",
    "        for index,row in df1.iterrows():\n",
    "            aa.append(index + 1)\n",
    "        df1['week'] = aa\n",
    "        df1['season'] = year\n",
    "    else:\n",
    "        predf = dict()\n",
    "        urls = 'https://www.pro-football-reference.com/teams/kan/'\n",
    "        end = '.htm'\n",
    "        url = urls+str(year)+end\n",
    "        page = urlopen(url).read()\n",
    "        soup = bs(page)\n",
    "        table = soup.find_all(\"table\")\n",
    "        table = table[1]\n",
    "        rows = table.find_all('tr')\n",
    "        for row in rows:\n",
    "            a = row.find_all('td')\n",
    "            for rowrow in a:\n",
    "                b = rowrow.text.strip().encode()\n",
    "                c = b.decode('utf-8')\n",
    "                ff = rowrow['data-stat']\n",
    "                if ff in predf:\n",
    "                    predf[ff].append(c)\n",
    "                else:\n",
    "                    predf[ff] = [c]\n",
    "        df2 = pd.DataFrame.from_dict(predf)\n",
    "        aa = []\n",
    "        for index,row in df2.iterrows():\n",
    "            aa.append(index + 1)\n",
    "        df2['week'] = aa\n",
    "        df2['season'] = year\n",
    "        df1 = pd.concat([df1,df2],axis = 0,ignore_index=True)\n",
    "            "
   ]
  },
  {
   "cell_type": "code",
   "execution_count": 27,
   "metadata": {},
   "outputs": [],
   "source": [
    "#rearrange columns so season and week are first\n",
    "df1 = pd.concat([df1[['season','week']],df1.iloc[:,:-2]],axis = 1)"
   ]
  },
  {
   "cell_type": "code",
   "execution_count": 28,
   "metadata": {
    "scrolled": true
   },
   "outputs": [
    {
     "output_type": "execute_result",
     "data": {
      "text/plain": "     season  week game_day_of_week     game_date  game_time boxscore_word  \\\n176    2015     1              Sun  September 13  1:02PM ET      boxscore   \n177    2015     2              Thu  September 17  8:29PM ET      boxscore   \n178    2015     3              Mon  September 28  8:30PM ET      boxscore   \n179    2015     4              Sun     October 4  1:03PM ET      boxscore   \n180    2015     5              Sun    October 11  1:02PM ET      boxscore   \n181    2015     6              Sun    October 18  1:02PM ET      boxscore   \n182    2015     7              Sun    October 25  1:03PM ET      boxscore   \n183    2015     8              Sun    November 1  9:36AM ET      boxscore   \n184    2015     9                                                           \n185    2015    10              Sun   November 15  4:30PM ET      boxscore   \n186    2015    11              Sun   November 22  4:05PM ET      boxscore   \n187    2015    12              Sun   November 29  1:03PM ET      boxscore   \n188    2015    13              Sun    December 6  4:05PM ET      boxscore   \n189    2015    14              Sun   December 13  1:03PM ET      boxscore   \n190    2015    15              Sun   December 20  1:02PM ET      boxscore   \n191    2015    16              Sun   December 27  1:03PM ET      boxscore   \n192    2015    17              Sun     January 3  4:26PM ET      boxscore   \n193    2015    18                       Playoffs                            \n194    2015    19              Sat     January 9  4:35PM ET      boxscore   \n195    2015    20              Sat    January 16  4:35PM ET      boxscore   \n\n    game_outcome overtime team_record game_location  ... rush_yds_off to_off  \\\n176            W                  1-0             @  ...           97          \n177            L                  1-1                ...          147      5   \n178            L                  1-2             @  ...           75      1   \n179            L                  1-3             @  ...          113      1   \n180            L                  1-4                ...          117          \n181            L                  1-5             @  ...           57      1   \n182            W                  2-5                ...          138          \n183            W                  3-5                ...          206          \n184                                                  ...                       \n185            W                  4-5             @  ...          106          \n186            W                  5-5             @  ...          153          \n187            W                  6-5                ...          158          \n188            W                  7-5             @  ...           89      2   \n189            W                  8-5                ...          150      2   \n190            W                  9-5             @  ...          113          \n191            W                 10-5                ...          136      1   \n192            W                 11-5                ...          189      2   \n193                                                  ...                       \n194            W                 12-5             @  ...          141      1   \n195            L                 12-6             @  ...          135      1   \n\n    first_down_def yards_def pass_yds_def rush_yds_def to_def exp_pts_off  \\\n176             24       396          298           98      2        1.05   \n177             21       299          238           61      1       -9.40   \n178             26       448          325          123               8.10   \n179             18       445          321          124               4.58   \n180             21       328          241           87      1       -0.04   \n181             16       321          237           84      2       -7.81   \n182             18       339          192          147      3        8.55   \n183             16       276          195           81      2       21.11   \n184                                                                         \n185             18       221          152           69      5       -4.23   \n186             14       201          149           52      2       17.35   \n187             25       415          286          129      2       16.67   \n188             27       361          262           99      3       -5.89   \n189             15       280          236           44      1        7.56   \n190             19       366          273           93      3        3.79   \n191             21       368          136          232      1        0.56   \n192             14       205          157           48      1        1.04   \n193                                                                         \n194             14       226          112          114      5        3.37   \n195             21       340          302           38               6.75   \n\n    exp_pts_def exp_pts_st  \n176        4.01       2.24  \n177        6.63      -5.00  \n178      -16.14       0.93  \n179      -23.79       5.41  \n180        2.95      -6.04  \n181        3.56       0.93  \n182        2.64      -0.95  \n183       10.04       4.13  \n184                         \n185       14.78       7.40  \n186       18.81      -5.50  \n187       -7.54       0.74  \n188       13.54       8.43  \n189        4.55      -6.96  \n190       21.83      -4.27  \n191       -0.92       3.44  \n192        7.68      -1.55  \n193                         \n194       20.13       8.90  \n195      -12.79      -1.22  \n\n[20 rows x 26 columns]",
      "text/html": "<div>\n<style scoped>\n    .dataframe tbody tr th:only-of-type {\n        vertical-align: middle;\n    }\n\n    .dataframe tbody tr th {\n        vertical-align: top;\n    }\n\n    .dataframe thead th {\n        text-align: right;\n    }\n</style>\n<table border=\"1\" class=\"dataframe\">\n  <thead>\n    <tr style=\"text-align: right;\">\n      <th></th>\n      <th>season</th>\n      <th>week</th>\n      <th>game_day_of_week</th>\n      <th>game_date</th>\n      <th>game_time</th>\n      <th>boxscore_word</th>\n      <th>game_outcome</th>\n      <th>overtime</th>\n      <th>team_record</th>\n      <th>game_location</th>\n      <th>...</th>\n      <th>rush_yds_off</th>\n      <th>to_off</th>\n      <th>first_down_def</th>\n      <th>yards_def</th>\n      <th>pass_yds_def</th>\n      <th>rush_yds_def</th>\n      <th>to_def</th>\n      <th>exp_pts_off</th>\n      <th>exp_pts_def</th>\n      <th>exp_pts_st</th>\n    </tr>\n  </thead>\n  <tbody>\n    <tr>\n      <th>176</th>\n      <td>2015</td>\n      <td>1</td>\n      <td>Sun</td>\n      <td>September 13</td>\n      <td>1:02PM ET</td>\n      <td>boxscore</td>\n      <td>W</td>\n      <td></td>\n      <td>1-0</td>\n      <td>@</td>\n      <td>...</td>\n      <td>97</td>\n      <td></td>\n      <td>24</td>\n      <td>396</td>\n      <td>298</td>\n      <td>98</td>\n      <td>2</td>\n      <td>1.05</td>\n      <td>4.01</td>\n      <td>2.24</td>\n    </tr>\n    <tr>\n      <th>177</th>\n      <td>2015</td>\n      <td>2</td>\n      <td>Thu</td>\n      <td>September 17</td>\n      <td>8:29PM ET</td>\n      <td>boxscore</td>\n      <td>L</td>\n      <td></td>\n      <td>1-1</td>\n      <td></td>\n      <td>...</td>\n      <td>147</td>\n      <td>5</td>\n      <td>21</td>\n      <td>299</td>\n      <td>238</td>\n      <td>61</td>\n      <td>1</td>\n      <td>-9.40</td>\n      <td>6.63</td>\n      <td>-5.00</td>\n    </tr>\n    <tr>\n      <th>178</th>\n      <td>2015</td>\n      <td>3</td>\n      <td>Mon</td>\n      <td>September 28</td>\n      <td>8:30PM ET</td>\n      <td>boxscore</td>\n      <td>L</td>\n      <td></td>\n      <td>1-2</td>\n      <td>@</td>\n      <td>...</td>\n      <td>75</td>\n      <td>1</td>\n      <td>26</td>\n      <td>448</td>\n      <td>325</td>\n      <td>123</td>\n      <td></td>\n      <td>8.10</td>\n      <td>-16.14</td>\n      <td>0.93</td>\n    </tr>\n    <tr>\n      <th>179</th>\n      <td>2015</td>\n      <td>4</td>\n      <td>Sun</td>\n      <td>October 4</td>\n      <td>1:03PM ET</td>\n      <td>boxscore</td>\n      <td>L</td>\n      <td></td>\n      <td>1-3</td>\n      <td>@</td>\n      <td>...</td>\n      <td>113</td>\n      <td>1</td>\n      <td>18</td>\n      <td>445</td>\n      <td>321</td>\n      <td>124</td>\n      <td></td>\n      <td>4.58</td>\n      <td>-23.79</td>\n      <td>5.41</td>\n    </tr>\n    <tr>\n      <th>180</th>\n      <td>2015</td>\n      <td>5</td>\n      <td>Sun</td>\n      <td>October 11</td>\n      <td>1:02PM ET</td>\n      <td>boxscore</td>\n      <td>L</td>\n      <td></td>\n      <td>1-4</td>\n      <td></td>\n      <td>...</td>\n      <td>117</td>\n      <td></td>\n      <td>21</td>\n      <td>328</td>\n      <td>241</td>\n      <td>87</td>\n      <td>1</td>\n      <td>-0.04</td>\n      <td>2.95</td>\n      <td>-6.04</td>\n    </tr>\n    <tr>\n      <th>181</th>\n      <td>2015</td>\n      <td>6</td>\n      <td>Sun</td>\n      <td>October 18</td>\n      <td>1:02PM ET</td>\n      <td>boxscore</td>\n      <td>L</td>\n      <td></td>\n      <td>1-5</td>\n      <td>@</td>\n      <td>...</td>\n      <td>57</td>\n      <td>1</td>\n      <td>16</td>\n      <td>321</td>\n      <td>237</td>\n      <td>84</td>\n      <td>2</td>\n      <td>-7.81</td>\n      <td>3.56</td>\n      <td>0.93</td>\n    </tr>\n    <tr>\n      <th>182</th>\n      <td>2015</td>\n      <td>7</td>\n      <td>Sun</td>\n      <td>October 25</td>\n      <td>1:03PM ET</td>\n      <td>boxscore</td>\n      <td>W</td>\n      <td></td>\n      <td>2-5</td>\n      <td></td>\n      <td>...</td>\n      <td>138</td>\n      <td></td>\n      <td>18</td>\n      <td>339</td>\n      <td>192</td>\n      <td>147</td>\n      <td>3</td>\n      <td>8.55</td>\n      <td>2.64</td>\n      <td>-0.95</td>\n    </tr>\n    <tr>\n      <th>183</th>\n      <td>2015</td>\n      <td>8</td>\n      <td>Sun</td>\n      <td>November 1</td>\n      <td>9:36AM ET</td>\n      <td>boxscore</td>\n      <td>W</td>\n      <td></td>\n      <td>3-5</td>\n      <td></td>\n      <td>...</td>\n      <td>206</td>\n      <td></td>\n      <td>16</td>\n      <td>276</td>\n      <td>195</td>\n      <td>81</td>\n      <td>2</td>\n      <td>21.11</td>\n      <td>10.04</td>\n      <td>4.13</td>\n    </tr>\n    <tr>\n      <th>184</th>\n      <td>2015</td>\n      <td>9</td>\n      <td></td>\n      <td></td>\n      <td></td>\n      <td></td>\n      <td></td>\n      <td></td>\n      <td></td>\n      <td></td>\n      <td>...</td>\n      <td></td>\n      <td></td>\n      <td></td>\n      <td></td>\n      <td></td>\n      <td></td>\n      <td></td>\n      <td></td>\n      <td></td>\n      <td></td>\n    </tr>\n    <tr>\n      <th>185</th>\n      <td>2015</td>\n      <td>10</td>\n      <td>Sun</td>\n      <td>November 15</td>\n      <td>4:30PM ET</td>\n      <td>boxscore</td>\n      <td>W</td>\n      <td></td>\n      <td>4-5</td>\n      <td>@</td>\n      <td>...</td>\n      <td>106</td>\n      <td></td>\n      <td>18</td>\n      <td>221</td>\n      <td>152</td>\n      <td>69</td>\n      <td>5</td>\n      <td>-4.23</td>\n      <td>14.78</td>\n      <td>7.40</td>\n    </tr>\n    <tr>\n      <th>186</th>\n      <td>2015</td>\n      <td>11</td>\n      <td>Sun</td>\n      <td>November 22</td>\n      <td>4:05PM ET</td>\n      <td>boxscore</td>\n      <td>W</td>\n      <td></td>\n      <td>5-5</td>\n      <td>@</td>\n      <td>...</td>\n      <td>153</td>\n      <td></td>\n      <td>14</td>\n      <td>201</td>\n      <td>149</td>\n      <td>52</td>\n      <td>2</td>\n      <td>17.35</td>\n      <td>18.81</td>\n      <td>-5.50</td>\n    </tr>\n    <tr>\n      <th>187</th>\n      <td>2015</td>\n      <td>12</td>\n      <td>Sun</td>\n      <td>November 29</td>\n      <td>1:03PM ET</td>\n      <td>boxscore</td>\n      <td>W</td>\n      <td></td>\n      <td>6-5</td>\n      <td></td>\n      <td>...</td>\n      <td>158</td>\n      <td></td>\n      <td>25</td>\n      <td>415</td>\n      <td>286</td>\n      <td>129</td>\n      <td>2</td>\n      <td>16.67</td>\n      <td>-7.54</td>\n      <td>0.74</td>\n    </tr>\n    <tr>\n      <th>188</th>\n      <td>2015</td>\n      <td>13</td>\n      <td>Sun</td>\n      <td>December 6</td>\n      <td>4:05PM ET</td>\n      <td>boxscore</td>\n      <td>W</td>\n      <td></td>\n      <td>7-5</td>\n      <td>@</td>\n      <td>...</td>\n      <td>89</td>\n      <td>2</td>\n      <td>27</td>\n      <td>361</td>\n      <td>262</td>\n      <td>99</td>\n      <td>3</td>\n      <td>-5.89</td>\n      <td>13.54</td>\n      <td>8.43</td>\n    </tr>\n    <tr>\n      <th>189</th>\n      <td>2015</td>\n      <td>14</td>\n      <td>Sun</td>\n      <td>December 13</td>\n      <td>1:03PM ET</td>\n      <td>boxscore</td>\n      <td>W</td>\n      <td></td>\n      <td>8-5</td>\n      <td></td>\n      <td>...</td>\n      <td>150</td>\n      <td>2</td>\n      <td>15</td>\n      <td>280</td>\n      <td>236</td>\n      <td>44</td>\n      <td>1</td>\n      <td>7.56</td>\n      <td>4.55</td>\n      <td>-6.96</td>\n    </tr>\n    <tr>\n      <th>190</th>\n      <td>2015</td>\n      <td>15</td>\n      <td>Sun</td>\n      <td>December 20</td>\n      <td>1:02PM ET</td>\n      <td>boxscore</td>\n      <td>W</td>\n      <td></td>\n      <td>9-5</td>\n      <td>@</td>\n      <td>...</td>\n      <td>113</td>\n      <td></td>\n      <td>19</td>\n      <td>366</td>\n      <td>273</td>\n      <td>93</td>\n      <td>3</td>\n      <td>3.79</td>\n      <td>21.83</td>\n      <td>-4.27</td>\n    </tr>\n    <tr>\n      <th>191</th>\n      <td>2015</td>\n      <td>16</td>\n      <td>Sun</td>\n      <td>December 27</td>\n      <td>1:03PM ET</td>\n      <td>boxscore</td>\n      <td>W</td>\n      <td></td>\n      <td>10-5</td>\n      <td></td>\n      <td>...</td>\n      <td>136</td>\n      <td>1</td>\n      <td>21</td>\n      <td>368</td>\n      <td>136</td>\n      <td>232</td>\n      <td>1</td>\n      <td>0.56</td>\n      <td>-0.92</td>\n      <td>3.44</td>\n    </tr>\n    <tr>\n      <th>192</th>\n      <td>2015</td>\n      <td>17</td>\n      <td>Sun</td>\n      <td>January 3</td>\n      <td>4:26PM ET</td>\n      <td>boxscore</td>\n      <td>W</td>\n      <td></td>\n      <td>11-5</td>\n      <td></td>\n      <td>...</td>\n      <td>189</td>\n      <td>2</td>\n      <td>14</td>\n      <td>205</td>\n      <td>157</td>\n      <td>48</td>\n      <td>1</td>\n      <td>1.04</td>\n      <td>7.68</td>\n      <td>-1.55</td>\n    </tr>\n    <tr>\n      <th>193</th>\n      <td>2015</td>\n      <td>18</td>\n      <td></td>\n      <td>Playoffs</td>\n      <td></td>\n      <td></td>\n      <td></td>\n      <td></td>\n      <td></td>\n      <td></td>\n      <td>...</td>\n      <td></td>\n      <td></td>\n      <td></td>\n      <td></td>\n      <td></td>\n      <td></td>\n      <td></td>\n      <td></td>\n      <td></td>\n      <td></td>\n    </tr>\n    <tr>\n      <th>194</th>\n      <td>2015</td>\n      <td>19</td>\n      <td>Sat</td>\n      <td>January 9</td>\n      <td>4:35PM ET</td>\n      <td>boxscore</td>\n      <td>W</td>\n      <td></td>\n      <td>12-5</td>\n      <td>@</td>\n      <td>...</td>\n      <td>141</td>\n      <td>1</td>\n      <td>14</td>\n      <td>226</td>\n      <td>112</td>\n      <td>114</td>\n      <td>5</td>\n      <td>3.37</td>\n      <td>20.13</td>\n      <td>8.90</td>\n    </tr>\n    <tr>\n      <th>195</th>\n      <td>2015</td>\n      <td>20</td>\n      <td>Sat</td>\n      <td>January 16</td>\n      <td>4:35PM ET</td>\n      <td>boxscore</td>\n      <td>L</td>\n      <td></td>\n      <td>12-6</td>\n      <td>@</td>\n      <td>...</td>\n      <td>135</td>\n      <td>1</td>\n      <td>21</td>\n      <td>340</td>\n      <td>302</td>\n      <td>38</td>\n      <td></td>\n      <td>6.75</td>\n      <td>-12.79</td>\n      <td>-1.22</td>\n    </tr>\n  </tbody>\n</table>\n<p>20 rows × 26 columns</p>\n</div>"
     },
     "metadata": {},
     "execution_count": 28
    }
   ],
   "source": [
    "df1[df1['season'] == 2015]"
   ]
  },
  {
   "cell_type": "code",
   "execution_count": 29,
   "metadata": {},
   "outputs": [],
   "source": [
    "df1['playoff_game'] = 'no'\n",
    "aa = []\n",
    "for index, row in df1.iterrows():\n",
    "    if row['game_location'] == '@':\n",
    "        aa.append('away')\n",
    "    else:\n",
    "        aa.append('home')\n",
    "df1['game_location'] = aa"
   ]
  },
  {
   "cell_type": "code",
   "execution_count": 30,
   "metadata": {},
   "outputs": [],
   "source": [
    "for index, row in df1.iterrows():\n",
    "    if row['week'] > 17:\n",
    "        df1.loc[index,'week'] = df1.loc[index,'week'] - 1\n",
    "        df1.loc[index,'playoff_game'] = 'yes'\n",
    "        "
   ]
  },
  {
   "cell_type": "code",
   "execution_count": 31,
   "metadata": {},
   "outputs": [],
   "source": [
    "df1 = df1[df1['game_date'] != 'Playoffs']\n",
    "del[df1['boxscore_word']]"
   ]
  },
  {
   "cell_type": "code",
   "execution_count": 35,
   "metadata": {},
   "outputs": [
    {
     "output_type": "execute_result",
     "data": {
      "text/plain": "     season  week game_day_of_week    game_date  game_time game_outcome  \\\n259    2019     6              Sun   October 13  1:00PM ET            L   \n261    2019     8              Sun   October 27  8:20PM ET            L   \n262    2019     9              Sun   November 3  1:00PM ET            W   \n265    2019    12                                                         \n266    2019    13              Sun   December 1  4:25PM ET            W   \n268    2019    15              Sun  December 15  1:00PM ET            W   \n270    2019    17              Sun  December 29  1:00PM ET            W   \n272    2019    18              Sun   January 12  3:05PM ET            W   \n273    2019    19              Sun   January 19  3:05PM ET            W   \n274    2019    20              Sun   February 2  6:30PM ET            W   \n\n    overtime team_record game_location                   opp pts_off pts_def  \\\n259                  4-2          home        Houston Texans      24      31   \n261                  5-3          home     Green Bay Packers      24      31   \n262                  6-3          home     Minnesota Vikings      26      23   \n265                               home              Bye Week                   \n266                  8-4          home       Oakland Raiders      40       9   \n268                 10-4          home        Denver Broncos      23       3   \n270                 12-4          home  Los Angeles Chargers      31      21   \n272                 13-4          home        Houston Texans      51      31   \n273                 14-4          home      Tennessee Titans      35      24   \n274                 15-4          home   San Francisco 49ers      31      20   \n\n    first_down_off yards_off pass_yds_off rush_yds_off to_off first_down_def  \\\n259             20       309          256           53      2             35   \n261             21       337          249           88      1             21   \n262             17       377          230          147      1             17   \n265                                                                            \n266             22       259          163           96                    19   \n268             27       419          327           92      1             15   \n270             16       336          174          162      1             25   \n272             29       434          316          118      1             23   \n273             27       404          292          112                    20   \n274             26       397          268          129      2             21   \n\n    yards_def pass_yds_def rush_yds_def to_def exp_pts_off exp_pts_def  \\\n259       472          280          192      3        6.10      -17.92   \n261       374          256          118              11.40      -17.67   \n262       308          212           96               7.56       -3.06   \n265                                                                      \n266       332          210          122      3       14.17        3.44   \n268       251          199           52      1       17.31        9.67   \n270       366          258          108      2       13.59       -9.18   \n272       442          348           94      1       28.73       -5.46   \n273       295          210           85              29.52       -5.92   \n274       351          210          141      2       18.54       -5.19   \n\n    exp_pts_st playoff_game  \n259       1.87           no  \n261       0.68           no  \n262      -0.23           no  \n265                      no  \n266      11.19           no  \n268      -4.87           no  \n270       7.29           no  \n272      -6.77          yes  \n273      -9.99          yes  \n274      -1.58          yes  ",
      "text/html": "<div>\n<style scoped>\n    .dataframe tbody tr th:only-of-type {\n        vertical-align: middle;\n    }\n\n    .dataframe tbody tr th {\n        vertical-align: top;\n    }\n\n    .dataframe thead th {\n        text-align: right;\n    }\n</style>\n<table border=\"1\" class=\"dataframe\">\n  <thead>\n    <tr style=\"text-align: right;\">\n      <th></th>\n      <th>season</th>\n      <th>week</th>\n      <th>game_day_of_week</th>\n      <th>game_date</th>\n      <th>game_time</th>\n      <th>game_outcome</th>\n      <th>overtime</th>\n      <th>team_record</th>\n      <th>game_location</th>\n      <th>opp</th>\n      <th>pts_off</th>\n      <th>pts_def</th>\n      <th>first_down_off</th>\n      <th>yards_off</th>\n      <th>pass_yds_off</th>\n      <th>rush_yds_off</th>\n      <th>to_off</th>\n      <th>first_down_def</th>\n      <th>yards_def</th>\n      <th>pass_yds_def</th>\n      <th>rush_yds_def</th>\n      <th>to_def</th>\n      <th>exp_pts_off</th>\n      <th>exp_pts_def</th>\n      <th>exp_pts_st</th>\n      <th>playoff_game</th>\n    </tr>\n  </thead>\n  <tbody>\n    <tr>\n      <th>259</th>\n      <td>2019</td>\n      <td>6</td>\n      <td>Sun</td>\n      <td>October 13</td>\n      <td>1:00PM ET</td>\n      <td>L</td>\n      <td></td>\n      <td>4-2</td>\n      <td>home</td>\n      <td>Houston Texans</td>\n      <td>24</td>\n      <td>31</td>\n      <td>20</td>\n      <td>309</td>\n      <td>256</td>\n      <td>53</td>\n      <td>2</td>\n      <td>35</td>\n      <td>472</td>\n      <td>280</td>\n      <td>192</td>\n      <td>3</td>\n      <td>6.10</td>\n      <td>-17.92</td>\n      <td>1.87</td>\n      <td>no</td>\n    </tr>\n    <tr>\n      <th>261</th>\n      <td>2019</td>\n      <td>8</td>\n      <td>Sun</td>\n      <td>October 27</td>\n      <td>8:20PM ET</td>\n      <td>L</td>\n      <td></td>\n      <td>5-3</td>\n      <td>home</td>\n      <td>Green Bay Packers</td>\n      <td>24</td>\n      <td>31</td>\n      <td>21</td>\n      <td>337</td>\n      <td>249</td>\n      <td>88</td>\n      <td>1</td>\n      <td>21</td>\n      <td>374</td>\n      <td>256</td>\n      <td>118</td>\n      <td></td>\n      <td>11.40</td>\n      <td>-17.67</td>\n      <td>0.68</td>\n      <td>no</td>\n    </tr>\n    <tr>\n      <th>262</th>\n      <td>2019</td>\n      <td>9</td>\n      <td>Sun</td>\n      <td>November 3</td>\n      <td>1:00PM ET</td>\n      <td>W</td>\n      <td></td>\n      <td>6-3</td>\n      <td>home</td>\n      <td>Minnesota Vikings</td>\n      <td>26</td>\n      <td>23</td>\n      <td>17</td>\n      <td>377</td>\n      <td>230</td>\n      <td>147</td>\n      <td>1</td>\n      <td>17</td>\n      <td>308</td>\n      <td>212</td>\n      <td>96</td>\n      <td></td>\n      <td>7.56</td>\n      <td>-3.06</td>\n      <td>-0.23</td>\n      <td>no</td>\n    </tr>\n    <tr>\n      <th>265</th>\n      <td>2019</td>\n      <td>12</td>\n      <td></td>\n      <td></td>\n      <td></td>\n      <td></td>\n      <td></td>\n      <td></td>\n      <td>home</td>\n      <td>Bye Week</td>\n      <td></td>\n      <td></td>\n      <td></td>\n      <td></td>\n      <td></td>\n      <td></td>\n      <td></td>\n      <td></td>\n      <td></td>\n      <td></td>\n      <td></td>\n      <td></td>\n      <td></td>\n      <td></td>\n      <td></td>\n      <td>no</td>\n    </tr>\n    <tr>\n      <th>266</th>\n      <td>2019</td>\n      <td>13</td>\n      <td>Sun</td>\n      <td>December 1</td>\n      <td>4:25PM ET</td>\n      <td>W</td>\n      <td></td>\n      <td>8-4</td>\n      <td>home</td>\n      <td>Oakland Raiders</td>\n      <td>40</td>\n      <td>9</td>\n      <td>22</td>\n      <td>259</td>\n      <td>163</td>\n      <td>96</td>\n      <td></td>\n      <td>19</td>\n      <td>332</td>\n      <td>210</td>\n      <td>122</td>\n      <td>3</td>\n      <td>14.17</td>\n      <td>3.44</td>\n      <td>11.19</td>\n      <td>no</td>\n    </tr>\n    <tr>\n      <th>268</th>\n      <td>2019</td>\n      <td>15</td>\n      <td>Sun</td>\n      <td>December 15</td>\n      <td>1:00PM ET</td>\n      <td>W</td>\n      <td></td>\n      <td>10-4</td>\n      <td>home</td>\n      <td>Denver Broncos</td>\n      <td>23</td>\n      <td>3</td>\n      <td>27</td>\n      <td>419</td>\n      <td>327</td>\n      <td>92</td>\n      <td>1</td>\n      <td>15</td>\n      <td>251</td>\n      <td>199</td>\n      <td>52</td>\n      <td>1</td>\n      <td>17.31</td>\n      <td>9.67</td>\n      <td>-4.87</td>\n      <td>no</td>\n    </tr>\n    <tr>\n      <th>270</th>\n      <td>2019</td>\n      <td>17</td>\n      <td>Sun</td>\n      <td>December 29</td>\n      <td>1:00PM ET</td>\n      <td>W</td>\n      <td></td>\n      <td>12-4</td>\n      <td>home</td>\n      <td>Los Angeles Chargers</td>\n      <td>31</td>\n      <td>21</td>\n      <td>16</td>\n      <td>336</td>\n      <td>174</td>\n      <td>162</td>\n      <td>1</td>\n      <td>25</td>\n      <td>366</td>\n      <td>258</td>\n      <td>108</td>\n      <td>2</td>\n      <td>13.59</td>\n      <td>-9.18</td>\n      <td>7.29</td>\n      <td>no</td>\n    </tr>\n    <tr>\n      <th>272</th>\n      <td>2019</td>\n      <td>18</td>\n      <td>Sun</td>\n      <td>January 12</td>\n      <td>3:05PM ET</td>\n      <td>W</td>\n      <td></td>\n      <td>13-4</td>\n      <td>home</td>\n      <td>Houston Texans</td>\n      <td>51</td>\n      <td>31</td>\n      <td>29</td>\n      <td>434</td>\n      <td>316</td>\n      <td>118</td>\n      <td>1</td>\n      <td>23</td>\n      <td>442</td>\n      <td>348</td>\n      <td>94</td>\n      <td>1</td>\n      <td>28.73</td>\n      <td>-5.46</td>\n      <td>-6.77</td>\n      <td>yes</td>\n    </tr>\n    <tr>\n      <th>273</th>\n      <td>2019</td>\n      <td>19</td>\n      <td>Sun</td>\n      <td>January 19</td>\n      <td>3:05PM ET</td>\n      <td>W</td>\n      <td></td>\n      <td>14-4</td>\n      <td>home</td>\n      <td>Tennessee Titans</td>\n      <td>35</td>\n      <td>24</td>\n      <td>27</td>\n      <td>404</td>\n      <td>292</td>\n      <td>112</td>\n      <td></td>\n      <td>20</td>\n      <td>295</td>\n      <td>210</td>\n      <td>85</td>\n      <td></td>\n      <td>29.52</td>\n      <td>-5.92</td>\n      <td>-9.99</td>\n      <td>yes</td>\n    </tr>\n    <tr>\n      <th>274</th>\n      <td>2019</td>\n      <td>20</td>\n      <td>Sun</td>\n      <td>February 2</td>\n      <td>6:30PM ET</td>\n      <td>W</td>\n      <td></td>\n      <td>15-4</td>\n      <td>home</td>\n      <td>San Francisco 49ers</td>\n      <td>31</td>\n      <td>20</td>\n      <td>26</td>\n      <td>397</td>\n      <td>268</td>\n      <td>129</td>\n      <td>2</td>\n      <td>21</td>\n      <td>351</td>\n      <td>210</td>\n      <td>141</td>\n      <td>2</td>\n      <td>18.54</td>\n      <td>-5.19</td>\n      <td>-1.58</td>\n      <td>yes</td>\n    </tr>\n  </tbody>\n</table>\n</div>"
     },
     "metadata": {},
     "execution_count": 35
    }
   ],
   "source": [
    "df1[df1['game_location'] == 'home'].tail(10)"
   ]
  },
  {
   "cell_type": "code",
   "execution_count": null,
   "metadata": {},
   "outputs": [],
   "source": []
  }
 ],
 "metadata": {
  "kernelspec": {
   "display_name": "Python 3",
   "language": "python",
   "name": "python3"
  },
  "language_info": {
   "codemirror_mode": {
    "name": "ipython",
    "version": 3
   },
   "file_extension": ".py",
   "mimetype": "text/x-python",
   "name": "python",
   "nbconvert_exporter": "python",
   "pygments_lexer": "ipython3",
   "version": "3.7.6-final"
  }
 },
 "nbformat": 4,
 "nbformat_minor": 2
}